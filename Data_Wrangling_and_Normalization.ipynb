{
  "nbformat": 4,
  "nbformat_minor": 0,
  "metadata": {
    "colab": {
      "name": "Data Wrangling and Normalization",
      "provenance": [],
      "authorship_tag": "ABX9TyNTOOvCOkK6NMt3f1i1V00z",
      "include_colab_link": true
    },
    "kernelspec": {
      "name": "python3",
      "display_name": "Python 3"
    },
    "language_info": {
      "name": "python"
    }
  },
  "cells": [
    {
      "cell_type": "markdown",
      "metadata": {
        "id": "view-in-github",
        "colab_type": "text"
      },
      "source": [
        "<a href=\"https://colab.research.google.com/github/Jacquedelest/Shopping-Customer-in-some-Cities/blob/master/Data_Wrangling_and_Normalization.ipynb\" target=\"_parent\"><img src=\"https://colab.research.google.com/assets/colab-badge.svg\" alt=\"Open In Colab\"/></a>"
      ]
    },
    {
      "cell_type": "markdown",
      "metadata": {
        "id": "9vlmxEveWNKm"
      },
      "source": [
        "# **Data Wrangling with Pandas**"
      ]
    },
    {
      "cell_type": "markdown",
      "metadata": {
        "id": "mBP0Es1cWFvj"
      },
      "source": [
        "Import libraries"
      ]
    },
    {
      "cell_type": "code",
      "metadata": {
        "id": "MHNDe-mXZUn4"
      },
      "source": [
        "import pandas as pd"
      ],
      "execution_count": 79,
      "outputs": []
    },
    {
      "cell_type": "markdown",
      "metadata": {
        "id": "zXgeSm_hZX98"
      },
      "source": [
        "Read dataset with Pandas"
      ]
    },
    {
      "cell_type": "code",
      "metadata": {
        "colab": {
          "base_uri": "https://localhost:8080/"
        },
        "id": "bZ0rEkG0WAPK",
        "outputId": "dcf79869-2c09-4ab2-85c0-2d9d4a110c51"
      },
      "source": [
        "\n",
        "shopping_customer = pd.read_csv(\"Shopping_CustomerData.csv\")\n",
        "print(shopping_customer.head())"
      ],
      "execution_count": 80,
      "outputs": [
        {
          "output_type": "stream",
          "text": [
            "   CustomerID CustomerGender  ...  SpendingScore CustomerCityID\n",
            "0        1001           Male  ...             78              1\n",
            "1        1002           Male  ...             63              1\n",
            "2        1003         Female  ...             69              4\n",
            "3        1004         Female  ...             30              1\n",
            "4        1005         Female  ...              6              1\n",
            "\n",
            "[5 rows x 8 columns]\n"
          ],
          "name": "stdout"
        }
      ]
    },
    {
      "cell_type": "markdown",
      "metadata": {
        "id": "KSJOUBpvZI6d"
      },
      "source": [
        "Check information about dataset"
      ]
    },
    {
      "cell_type": "code",
      "metadata": {
        "colab": {
          "base_uri": "https://localhost:8080/"
        },
        "id": "RaPyFCJ4Y89f",
        "outputId": "2b4e22ac-de7e-43bf-d230-d0762848c95b"
      },
      "source": [
        "print(shopping_customer.info())"
      ],
      "execution_count": 81,
      "outputs": [
        {
          "output_type": "stream",
          "text": [
            "<class 'pandas.core.frame.DataFrame'>\n",
            "RangeIndex: 200 entries, 0 to 199\n",
            "Data columns (total 8 columns):\n",
            " #   Column          Non-Null Count  Dtype  \n",
            "---  ------          --------------  -----  \n",
            " 0   CustomerID      200 non-null    int64  \n",
            " 1   CustomerGender  200 non-null    object \n",
            " 2   CustomerAge     200 non-null    int64  \n",
            " 3   CustomerCity    200 non-null    object \n",
            " 4   AnnualIncome    200 non-null    float64\n",
            " 5   CreditScore     200 non-null    int64  \n",
            " 6   SpendingScore   200 non-null    int64  \n",
            " 7   CustomerCityID  200 non-null    int64  \n",
            "dtypes: float64(1), int64(5), object(2)\n",
            "memory usage: 12.6+ KB\n",
            "None\n"
          ],
          "name": "stdout"
        }
      ]
    },
    {
      "cell_type": "markdown",
      "metadata": {
        "id": "uB9xXygGO427"
      },
      "source": [
        "Check Missing Value"
      ]
    },
    {
      "cell_type": "code",
      "metadata": {
        "colab": {
          "base_uri": "https://localhost:8080/"
        },
        "id": "q9-8Jr_BdwxG",
        "outputId": "3ec2291a-181c-4e1f-864d-d02062c56f29"
      },
      "source": [
        "print(shopping_customer.isnull().sum())"
      ],
      "execution_count": 82,
      "outputs": [
        {
          "output_type": "stream",
          "text": [
            "CustomerID        0\n",
            "CustomerGender    0\n",
            "CustomerAge       0\n",
            "CustomerCity      0\n",
            "AnnualIncome      0\n",
            "CreditScore       0\n",
            "SpendingScore     0\n",
            "CustomerCityID    0\n",
            "dtype: int64\n"
          ],
          "name": "stdout"
        }
      ]
    },
    {
      "cell_type": "markdown",
      "metadata": {
        "id": "EF-xki4vdTOL"
      },
      "source": [
        "Statistical summary of dataframe"
      ]
    },
    {
      "cell_type": "code",
      "metadata": {
        "colab": {
          "base_uri": "https://localhost:8080/"
        },
        "id": "qTALTnCmMmIf",
        "outputId": "146bfdda-8f22-4e55-8fbd-f97b946550f5"
      },
      "source": [
        "print(shopping_customer.describe(exclude=['O']))"
      ],
      "execution_count": 83,
      "outputs": [
        {
          "output_type": "stream",
          "text": [
            "        CustomerID  CustomerAge  ...  SpendingScore  CustomerCityID\n",
            "count   200.000000   200.000000  ...      200.00000      200.000000\n",
            "mean   1100.500000    45.520000  ...       50.70500        2.850000\n",
            "std      57.879185    16.113592  ...       28.72269        1.475938\n",
            "min    1001.000000    18.000000  ...        2.00000        1.000000\n",
            "25%    1050.750000    31.750000  ...       27.75000        1.750000\n",
            "50%    1100.500000    46.500000  ...       48.00000        3.000000\n",
            "75%    1150.250000    59.000000  ...       77.00000        4.000000\n",
            "max    1200.000000    75.000000  ...      100.00000        5.000000\n",
            "\n",
            "[8 rows x 6 columns]\n"
          ],
          "name": "stdout"
        }
      ]
    },
    {
      "cell_type": "code",
      "metadata": {
        "colab": {
          "base_uri": "https://localhost:8080/"
        },
        "id": "hiK2JcFvXMfq",
        "outputId": "4a242152-fd26-4fa4-dace-fd385058d09e"
      },
      "source": [
        "print(shopping_customer.describe(include=['O']))"
      ],
      "execution_count": 84,
      "outputs": [
        {
          "output_type": "stream",
          "text": [
            "       CustomerGender CustomerCity\n",
            "count             200          200\n",
            "unique              2            5\n",
            "top            Female    Bengaluru\n",
            "freq              112           50\n"
          ],
          "name": "stdout"
        }
      ]
    },
    {
      "cell_type": "markdown",
      "metadata": {
        "id": "bXoKwiCefwCK"
      },
      "source": [
        "# **Data normalization with MinMax**"
      ]
    },
    {
      "cell_type": "code",
      "metadata": {
        "id": "lokAhEgHNEn0"
      },
      "source": [
        "import numpy as np\n",
        "from sklearn import preprocessing"
      ],
      "execution_count": 85,
      "outputs": []
    },
    {
      "cell_type": "code",
      "metadata": {
        "colab": {
          "base_uri": "https://localhost:8080/"
        },
        "id": "QuzEw9z-f0Sg",
        "outputId": "ce39d4d6-b7b8-49c8-b127-422788c3f7a4"
      },
      "source": [
        "array = shopping_customer.values\n",
        "X = array[:,4:8] #separate features from dataset. \n",
        "Y = array[:,0:3] #separate class from dataset\n",
        "\n",
        "shopping_customer = pd.DataFrame(\n",
        "    {\n",
        "    'Customer ID' : array[:,0],\n",
        "    'Customer Gender' : array[:,1],\n",
        "    'Customer City ID' : array[:,2],\n",
        "    'Customer City' : array[:,3],\n",
        "    'Customer Age' : array[:,4],\n",
        "    'Annual Income' : array[:,5],\n",
        "    'Credit Score' : array[:,6],\n",
        "    'Spending Score' : array[:,7]    \n",
        "    }\n",
        "    )\n",
        "print(\"dataset before normalization :\")\n",
        "print(shopping_customer.head(10))\n",
        "\n",
        "min_max_scaler = preprocessing.MinMaxScaler(feature_range=(0,1)) #initialization MinMax\n",
        "data = min_max_scaler.fit_transform(X) #transformation MinMax for feature\n",
        "shopping_customer = pd.DataFrame(\n",
        "    {\n",
        "    'Customer Age' : data[:,0],\n",
        "    'Annual Income' : data[:,1],\n",
        "    'Credit Score' : data[:,2],\n",
        "    'Spending Score' : data[:,3],\n",
        "    'Customer ID' : array[:,0],\n",
        "    'Customer Gender' : array[:,1],\n",
        "    'Customer City ID' : array[:,2],\n",
        "    'Customer City' : array[:,3]\n",
        "    }\n",
        "    )\n",
        "\n",
        "print(\"dataset after normalization :\")\n",
        "print(shopping_customer.head(10))"
      ],
      "execution_count": 86,
      "outputs": [
        {
          "output_type": "stream",
          "text": [
            "dataset before normalization :\n",
            "  Customer ID Customer Gender  ... Credit Score Spending Score\n",
            "0        1001            Male  ...           78              1\n",
            "1        1002            Male  ...           63              1\n",
            "2        1003          Female  ...           69              4\n",
            "3        1004          Female  ...           30              1\n",
            "4        1005          Female  ...            6              1\n",
            "5        1006          Female  ...           97              2\n",
            "6        1007          Female  ...            2              2\n",
            "7        1008          Female  ...           77              5\n",
            "8        1009            Male  ...           22              2\n",
            "9        1010          Female  ...           97              3\n",
            "\n",
            "[10 rows x 8 columns]\n",
            "dataset after normalization :\n",
            "   Customer Age  Annual Income  ...  Customer City ID  Customer City\n",
            "0      0.757719       0.294798  ...                49      Bengaluru\n",
            "1      0.295262       0.228324  ...                59      Bengaluru\n",
            "2      0.233602       0.011561  ...                54          Delhi\n",
            "3      0.077426       0.427746  ...                42      Bengaluru\n",
            "4      0.366060       0.699422  ...                30      Bengaluru\n",
            "5      0.682343       0.242775  ...                38        Chennai\n",
            "6      0.265253       0.953757  ...                45        Chennai\n",
            "7      0.594166       0.869942  ...                23         Mumbai\n",
            "8      0.136666       0.453757  ...                59        Chennai\n",
            "9      0.255033       0.341040  ...                48        Kolkata\n",
            "\n",
            "[10 rows x 8 columns]\n"
          ],
          "name": "stdout"
        }
      ]
    },
    {
      "cell_type": "markdown",
      "metadata": {
        "id": "YOvO0BPVPn8P"
      },
      "source": [
        "# **Shopping Index**"
      ]
    },
    {
      "cell_type": "code",
      "metadata": {
        "colab": {
          "base_uri": "https://localhost:8080/"
        },
        "id": "cwOylmQ_Pid-",
        "outputId": "12a65a4c-408c-461c-cff3-a221cc2b176b"
      },
      "source": [
        "shopping_index = pd.read_csv(\"Shopping_ShoppingIndexData.csv\")\n",
        "print(shopping_index.head())"
      ],
      "execution_count": 87,
      "outputs": [
        {
          "output_type": "stream",
          "text": [
            "   Bengaluru  Chennai  Kolkata  Delhi  Mumbai  ShoppingIndex\n",
            "0        180      159      204    134     339             92\n",
            "1        121      336      419    419     346             90\n",
            "2        153      242      399    378     107             88\n",
            "3        163      156      186    364     419             87\n",
            "4        404      115      133    426     353             85\n"
          ],
          "name": "stdout"
        }
      ]
    }
  ]
}